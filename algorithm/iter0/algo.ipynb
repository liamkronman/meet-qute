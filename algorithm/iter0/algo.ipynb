{
 "cells": [
  {
   "cell_type": "code",
   "execution_count": 4,
   "metadata": {},
   "outputs": [],
   "source": [
    "from qiskit import Aer, transpile, assemble, QuantumCircuit\n",
    "from qiskit.visualization import plot_histogram\n",
    "from encoder import encode_response"
   ]
  },
  {
   "cell_type": "code",
   "execution_count": 15,
   "metadata": {},
   "outputs": [],
   "source": [
    "def compare_responses(response1, response2):\n",
    "    qc = QuantumCircuit(2, 1) # 2 qubits, 1 classical bit for measurement\n",
    "\n",
    "    # Encode the responses into the circuit\n",
    "    qc.compose(encode_response(response1), [0], inplace=True)\n",
    "    qc.compose(encode_response(response2), [1], inplace=True)\n",
    "\n",
    "    # Apply CNOT gate\n",
    "    qc.cx(0, 1)\n",
    "\n",
    "    # Measure the second qubit\n",
    "    qc.measure(1, 0)\n",
    "\n",
    "    # Run the circuit\n",
    "    aer_sim = Aer.get_backend('aer_simulator')\n",
    "    transpiled_qc = transpile(qc, aer_sim)\n",
    "    result = aer_sim.run(transpiled_qc).result()\n",
    "    counts = result.get_counts()\n",
    "\n",
    "    return counts"
   ]
  },
  {
   "cell_type": "code",
   "execution_count": 16,
   "metadata": {},
   "outputs": [
    {
     "name": "stdout",
     "output_type": "stream",
     "text": [
      "Good scenario: {'0': 1024}\n",
      "Bad scenario: {'1': 1024}\n",
      "Another bad scenario: {'1': 1024}\n",
      "Unlikely couple: {'0': 1024}\n"
     ]
    }
   ],
   "source": [
    "# QUESTION: Are you single?\n",
    "\n",
    "# Good Scenario :)\n",
    "user1 = 1 # User 1 says 'Yes'\n",
    "user2 = 1 # User 2 also says 'Yes'\n",
    "\n",
    "match_result = compare_responses(user1, user2)\n",
    "print(\"Good scenario:\", match_result)\n",
    "\n",
    "# Bad Scenario :(\n",
    "user1 = 1 # User 1 says 'Yes'\n",
    "user2 = 0 # User 2 says 'No'\n",
    "\n",
    "match_result = compare_responses(user1, user2)\n",
    "print(\"Bad scenario:\", match_result)\n",
    "\n",
    "# Another bad scenario :(\n",
    "user1 = 0 # User 1 says 'No'\n",
    "user2 = 1 # User 2 also says 'No'\n",
    "\n",
    "match_result = compare_responses(user1, user2)\n",
    "print(\"Another bad scenario:\", match_result)\n",
    "\n",
    "# Helping the unhappy find happiness within each other\n",
    "user1 = 0\n",
    "user2 = 0\n",
    "match_result = compare_responses(user1, user2)\n",
    "print(\"Unlikely couple:\", match_result)"
   ]
  },
  {
   "cell_type": "code",
   "execution_count": null,
   "metadata": {},
   "outputs": [],
   "source": []
  },
  {
   "cell_type": "markdown",
   "metadata": {},
   "source": []
  }
 ],
 "metadata": {
  "kernelspec": {
   "display_name": "env",
   "language": "python",
   "name": "python3"
  },
  "language_info": {
   "codemirror_mode": {
    "name": "ipython",
    "version": 3
   },
   "file_extension": ".py",
   "mimetype": "text/x-python",
   "name": "python",
   "nbconvert_exporter": "python",
   "pygments_lexer": "ipython3",
   "version": "3.11.6"
  }
 },
 "nbformat": 4,
 "nbformat_minor": 2
}
