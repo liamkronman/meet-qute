{
 "cells": [
  {
   "cell_type": "code",
   "execution_count": 5,
   "metadata": {},
   "outputs": [],
   "source": [
    "from qiskit import QuantumCircuit, Aer, transpile, assemble\n",
    "from encoder import encode_user_profile"
   ]
  },
  {
   "cell_type": "code",
   "execution_count": 6,
   "metadata": {},
   "outputs": [],
   "source": [
    "def compare_profiles(user1_answers, user2_answers):\n",
    "    # Encode user responses\n",
    "    qc = QuantumCircuit(6, 3) # 6 qubits and 3 classical bits for measurement\n",
    "    \n",
    "    # Encode answers\n",
    "    user1_circuit = encode_user_profile(user1_answers)\n",
    "    user2_circuit = encode_user_profile(user2_answers)\n",
    "\n",
    "    # Add these circuits to the main circuit\n",
    "    qc.compose(user1_circuit, [0,1,2], inplace=True)\n",
    "    qc.compose(user2_circuit, [3,4,5], inplace=True)\n",
    "\n",
    "    # Comparison logic\n",
    "    for i in range(3):\n",
    "        qc.cx(i, i+3)   # CNOT with user2's qubits\n",
    "        qc.x(i+3)       # X gate to flip the ancilla qubit\n",
    "\n",
    "    # Measurement\n",
    "    qc.measure([3,4,5],[0,1,2])\n",
    "\n",
    "    return qc"
   ]
  },
  {
   "cell_type": "code",
   "execution_count": 7,
   "metadata": {},
   "outputs": [],
   "source": [
    "user_profiles = [\n",
    "    [1, 0, 1],  # User 1\n",
    "    [0, 1, 0],  # User 2\n",
    "    [1, 1, 0],  # User 3\n",
    "    [0, 0, 1],  # User 4\n",
    "    [1, 0, 0]   # User 5\n",
    "]"
   ]
  },
  {
   "cell_type": "code",
   "execution_count": 9,
   "metadata": {},
   "outputs": [
    {
     "name": "stdout",
     "output_type": "stream",
     "text": [
      "{(0, 1): {'000': 1024}, (0, 2): {'001': 1024}, (0, 3): {'110': 1024}, (0, 4): {'011': 1024}, (1, 2): {'110': 1024}, (1, 3): {'001': 1024}, (1, 4): {'100': 1024}, (2, 3): {'000': 1024}, (2, 4): {'101': 1024}, (3, 4): {'010': 1024}}\n"
     ]
    }
   ],
   "source": [
    "from itertools import combinations\n",
    "\n",
    "# prepare the simulator\n",
    "aer_sim = Aer.get_backend('aer_simulator')\n",
    "\n",
    "pairwise_results = {}\n",
    "\n",
    "for idx, (user1, user2) in enumerate(combinations(range(len(user_profiles)), 2)):\n",
    "    comparison_circuit = compare_profiles(user_profiles[user1], user_profiles[user2])\n",
    "    transpiled_comparison_circuit = transpile(comparison_circuit, aer_sim)\n",
    "    result = aer_sim.run(transpiled_comparison_circuit).result()\n",
    "    counts = result.get_counts()\n",
    "    pairwise_results[(user1, user2)] = counts\n",
    "\n",
    "print(pairwise_results)"
   ]
  },
  {
   "cell_type": "code",
   "execution_count": 12,
   "metadata": {},
   "outputs": [
    {
     "name": "stdout",
     "output_type": "stream",
     "text": [
      "[(1, 4), (1, 5), (2, 3), (3, 5)]\n"
     ]
    }
   ],
   "source": [
    "# classical post-processing\n",
    "\n",
    "best_matches = []\n",
    "\n",
    "match_threshold = 2 # at least 2 out of 3 answers match\n",
    "\n",
    "for (user1, user2), counts in pairwise_results.items():\n",
    "    for match_res in counts:\n",
    "        match_count = match_res.count('1')\n",
    "        if match_count >= match_threshold:\n",
    "            best_matches.append((user1 + 1, user2 + 1))  # Adding 1 to adjust for 0-based indexing\n",
    "\n",
    "print(best_matches)"
   ]
  },
  {
   "cell_type": "code",
   "execution_count": null,
   "metadata": {},
   "outputs": [],
   "source": []
  }
 ],
 "metadata": {
  "kernelspec": {
   "display_name": ".venv",
   "language": "python",
   "name": "python3"
  },
  "language_info": {
   "codemirror_mode": {
    "name": "ipython",
    "version": 3
   },
   "file_extension": ".py",
   "mimetype": "text/x-python",
   "name": "python",
   "nbconvert_exporter": "python",
   "pygments_lexer": "ipython3",
   "version": "3.11.6"
  }
 },
 "nbformat": 4,
 "nbformat_minor": 2
}
